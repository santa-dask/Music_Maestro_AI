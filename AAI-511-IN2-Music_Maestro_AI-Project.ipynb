{
 "cells": [
  {
   "cell_type": "markdown",
   "id": "e0a95652-561c-4ac3-a6ca-bbb88048a9e5",
   "metadata": {
    "id": "e0a95652-561c-4ac3-a6ca-bbb88048a9e5"
   },
   "source": [
    "# Deep learning techniques to identify the composer of a music piece\n",
    "\n",
    "**Objective**  \n",
    "The primary objective of this project is to develop a deep learning model that can predict the composer of a given musical score accurately. The project aims to accomplish this objective by using two deep learning techniques: Long Short-Term Memory (LSTM) and Convolutional Neural Network (CNN).\n",
    "\n",
    "**Dataset**  \n",
    "The project will use a dataset consisting of musical scores from various composers. The dataset contain MIDI files and sheet music of compositions from well-known classical composers like Bach, Beethoven, Chopin, Mozart, Schubert, etc. The dataset should be labeled with the name of the composer for each score."
   ]
  },
  {
   "cell_type": "markdown",
   "id": "2f8b97b7-e792-46a7-bca4-7cf4beb01dd7",
   "metadata": {
    "id": "2f8b97b7-e792-46a7-bca4-7cf4beb01dd7"
   },
   "source": [
    "## Data Collection"
   ]
  },
  {
   "cell_type": "markdown",
   "id": "23f02e2e-3a2b-41c1-870f-e09789c7c2f3",
   "metadata": {
    "id": "23f02e2e-3a2b-41c1-870f-e09789c7c2f3"
   },
   "source": [
    "### Install required libraries"
   ]
  },
  {
   "cell_type": "code",
   "execution_count": 1,
   "id": "ee7f88e2-941a-4023-882d-72d9441f81ea",
   "metadata": {
    "id": "ee7f88e2-941a-4023-882d-72d9441f81ea"
   },
   "outputs": [
    {
     "name": "stderr",
     "output_type": "stream",
     "text": [
      "/Users/johnny/Library/Python/3.9/lib/python/site-packages/urllib3/__init__.py:35: NotOpenSSLWarning: urllib3 v2 only supports OpenSSL 1.1.1+, currently the 'ssl' module is compiled with 'LibreSSL 2.8.3'. See: https://github.com/urllib3/urllib3/issues/3020\n",
      "  warnings.warn(\n"
     ]
    }
   ],
   "source": [
    "# Import all dependent libraries\n",
    "import os\n",
    "import csv\n",
    "import zipfile\n",
    "import shutil\n",
    "\n",
    "from pathlib import Path\n",
    "from tqdm import tqdm\n",
    "\n",
    "import pandas as pd\n",
    "import matplotlib.pyplot as plt\n",
    "import seaborn as sns\n",
    "import numpy as np\n",
    "import warnings\n",
    "import math\n",
    "import keras.optimizers\n",
    "import tensorflow as tf\n",
    "\n",
    "\n",
    "# Music related libraries\n",
    "import music21\n",
    "from music21 import converter, instrument, note, chord, tempo\n",
    "\n",
    "# Machine Learning Libraries\n",
    "from sklearn.linear_model import LinearRegression\n",
    "from sklearn.metrics import mean_squared_error as mse\n",
    "from sklearn.model_selection import train_test_split\n",
    "from sklearn import preprocessing\n",
    "from sklearn.metrics import confusion_matrix, recall_score, precision_score\n",
    "from sklearn.model_selection import GridSearchCV, TimeSeriesSplit\n",
    "from sklearn.model_selection import TimeSeriesSplit\n",
    "\n",
    "# Deep Learning Libraries\n",
    "from keras.models import Sequential,load_model\n",
    "from keras.layers import Dense, Dropout, LSTM, Activation\n",
    "from sklearn.preprocessing import MinMaxScaler\n",
    "from keras.utils import pad_sequences # not used , should we remove it?\n",
    "from keras.callbacks import EarlyStopping, ModelCheckpoint\n",
    "from tensorflow.keras.optimizers import Adam\n",
    "\n",
    "# Suppress warnings for cleaner output\n",
    "warnings.simplefilter(action='ignore', category=FutureWarning)\n",
    "warnings.simplefilter(action='ignore', category=DeprecationWarning)"
   ]
  },
  {
   "cell_type": "code",
   "execution_count": 2,
   "id": "diXxOSA9NfIS",
   "metadata": {
    "colab": {
     "base_uri": "https://localhost:8080/"
    },
    "id": "diXxOSA9NfIS",
    "outputId": "2881b2dc-98e9-4675-b4e4-9e44af325081"
   },
   "outputs": [
    {
     "name": "stdout",
     "output_type": "stream",
     "text": [
      "Not running on Colab\n"
     ]
    }
   ],
   "source": [
    "# Function to check if running from colab\n",
    "def is_running_on_colab():\n",
    "  return 'google.colab' in str(get_ipython())\n",
    "\n",
    "if is_running_on_colab():\n",
    "  print('Running on Colab')\n",
    "  from google.colab import drive\n",
    "  drive.mount('/content/drive' , force_remount=True)\n",
    "  root_path = '/content/drive/MyDrive/AAI-511-IN2 Neural Networks and Deep Learning/Project'\n",
    "else:\n",
    "  print('Not running on Colab')\n",
    "  root_path = '.'"
   ]
  },
  {
   "cell_type": "code",
   "execution_count": 3,
   "id": "3EEMAXwr3bKX",
   "metadata": {
    "colab": {
     "base_uri": "https://localhost:8080/"
    },
    "id": "3EEMAXwr3bKX",
    "outputId": "20f9d0e4-72da-4d81-803a-287866646df6"
   },
   "outputs": [
    {
     "name": "stdout",
     "output_type": "stream",
     "text": [
      "Using dataset: ./Kaggle_Composer_Dataset\n",
      "Using extracted dataset: ./Kaggle_Composer_Dataset\n"
     ]
    }
   ],
   "source": [
    "# File path in Google Drive\n",
    "file_path = os.path.join(root_path, 'Composer_Dataset.zip')\n",
    "\n",
    "# Extract file path\n",
    "# Check if Kaggle dataset already exists\n",
    "extract_path = os.path.join(root_path, 'Kaggle_Composer_Dataset')\n",
    "\n",
    "if not os.path.exists(extract_path):\n",
    "    extract_path = os.path.join(root_path, 'Composer_Dataset')\n",
    "\n",
    "print(f\"Using dataset: {extract_path}\")\n",
    "\n",
    "# Dataset folders\n",
    "path = Path(extract_path)\n",
    "if \"Kaggle_Composer_Dataset\" in path.name:\n",
    "    dataset_path = extract_path\n",
    "else:\n",
    "    dataset_path = os.path.join(extract_path, 'Composer_Dataset/NN_midi_files_extended')\n",
    "print(f\"Using extracted dataset: {dataset_path}\")\n",
    "\n",
    "# CSV index file\n",
    "csv_file = os.path.join(dataset_path, 'composer_dataset_index.csv')"
   ]
  },
  {
   "cell_type": "code",
   "execution_count": 4,
   "id": "j7VJ9Ifr46kf",
   "metadata": {
    "colab": {
     "base_uri": "https://localhost:8080/"
    },
    "id": "j7VJ9Ifr46kf",
    "outputId": "5c3a3fa5-87c3-484e-ffa7-999ddf8d949b"
   },
   "outputs": [
    {
     "name": "stdout",
     "output_type": "stream",
     "text": [
      "Dataset already extracted.\n"
     ]
    }
   ],
   "source": [
    "# Check if folder already exists\n",
    "if not os.path.exists(extract_path):\n",
    "    print(\"Extracting dataset...\")\n",
    "    with zipfile.ZipFile(file_path, 'r') as zip_ref:\n",
    "        zip_ref.extractall(extract_path)\n",
    "else:\n",
    "    print(\"Dataset already extracted.\")"
   ]
  },
  {
   "cell_type": "code",
   "execution_count": 5,
   "id": "4wlNACsj_Sti",
   "metadata": {
    "id": "4wlNACsj_Sti"
   },
   "outputs": [],
   "source": [
    "# Function to clean the folders\n",
    "def delete_hidden_folders(root_folder):\n",
    "    for root, dirs, _ in os.walk(root_folder):\n",
    "        for d in dirs:\n",
    "            if d.startswith('.'):\n",
    "                dir_path = os.path.join(root, d)\n",
    "                print(f\"Deleting hidden folder: {dir_path}\")\n",
    "                shutil.rmtree(dir_path)\n",
    "            elif d == '__MACOSX':\n",
    "                dir_path = os.path.join(root, d)\n",
    "                print(f\"Deleting __MACOSX folder: {dir_path}\")\n",
    "                shutil.rmtree(dir_path)\n",
    "\n",
    "# Run this on the outer Composer_Dataset\n",
    "delete_hidden_folders(extract_path)"
   ]
  },
  {
   "cell_type": "markdown",
   "id": "82067802-38c9-4321-840b-258d7ed2e0ba",
   "metadata": {
    "id": "82067802-38c9-4321-840b-258d7ed2e0ba"
   },
   "source": [
    "## Data Pre-processing"
   ]
  },
  {
   "cell_type": "code",
   "execution_count": 6,
   "id": "I9exSDxI8end",
   "metadata": {
    "id": "I9exSDxI8end"
   },
   "outputs": [],
   "source": [
    "# Function to create index files\n",
    "def create_midi_file_index_csv(root_dir, output_csv):\n",
    "    rows = []\n",
    "\n",
    "    path = Path(root_dir)\n",
    "    if \"Kaggle_Composer_Dataset\" in path.name:\n",
    "        split_folders = ['train', 'test', 'val']\n",
    "    else:\n",
    "        split_folders = ['train', 'test', 'dev']\n",
    "\n",
    "    for split in split_folders:\n",
    "        split_path = os.path.join(root_dir, split)\n",
    "        if not os.path.isdir(split_path):\n",
    "            continue\n",
    "\n",
    "        for composer in os.listdir(split_path):\n",
    "            composer_path = os.path.join(split_path, composer)\n",
    "            if not os.path.isdir(composer_path) or composer.startswith('.'):\n",
    "                continue\n",
    "\n",
    "            for filename in os.listdir(composer_path):\n",
    "                if not filename.endswith('.mid') or filename.startswith('.'):\n",
    "                    continue\n",
    "\n",
    "                filepath = os.path.join(split, composer, filename)\n",
    "                rows.append({\n",
    "                    'split': split,\n",
    "                    'composer': composer,\n",
    "                    'filename': filename,\n",
    "                    'filepath': filepath\n",
    "                })\n",
    "\n",
    "    # Write to CSV\n",
    "    with open(output_csv, 'w', newline='') as f:\n",
    "        writer = csv.DictWriter(f, fieldnames=['split', 'composer', 'filename', 'filepath'])\n",
    "        writer.writeheader()\n",
    "        writer.writerows(rows)\n",
    "\n",
    "    print(f\"CSV created: {output_csv} with {len(rows)} entries.\")"
   ]
  },
  {
   "cell_type": "code",
   "execution_count": 7,
   "id": "AhyRoSL61ZZk",
   "metadata": {
    "colab": {
     "base_uri": "https://localhost:8080/"
    },
    "id": "AhyRoSL61ZZk",
    "outputId": "2902ede3-70ae-4748-905e-7a0a61677872"
   },
   "outputs": [
    {
     "name": "stdout",
     "output_type": "stream",
     "text": [
      "CSV created: ./Kaggle_Composer_Dataset/composer_dataset_index.csv with 1660 entries.\n"
     ]
    }
   ],
   "source": [
    "# Create index csv file\n",
    "create_midi_file_index_csv(root_dir=dataset_path, output_csv=csv_file)"
   ]
  },
  {
   "cell_type": "markdown",
   "id": "4633d989-b9ed-444d-96e7-e249825f30b5",
   "metadata": {
    "id": "4633d989-b9ed-444d-96e7-e249825f30b5"
   },
   "source": [
    "## Feature Extraction"
   ]
  },
  {
   "cell_type": "code",
   "execution_count": 8,
   "id": "fQKdyuJAkB3L",
   "metadata": {
    "id": "fQKdyuJAkB3L"
   },
   "outputs": [],
   "source": [
    "# Function to extract features\n",
    "def extract_features_from_midi(filepath):\n",
    "    try:\n",
    "        midi = converter.parse(filepath)\n",
    "\n",
    "        # Get tempo (default to 120 if not found)\n",
    "        bpm = 120\n",
    "        tempo_indications = midi.flat.getElementsByClass(tempo.MetronomeMark)\n",
    "        if tempo_indications:\n",
    "            bpm = tempo_indications[0].number\n",
    "\n",
    "        notes = []\n",
    "        durations = []\n",
    "        pitches = []\n",
    "\n",
    "        for element in midi.recurse():\n",
    "            if isinstance(element, note.Note):\n",
    "                notes.append(str(element.pitch))\n",
    "                durations.append(element.duration.quarterLength)\n",
    "                pitches.append(element.pitch.midi)\n",
    "            elif isinstance(element, chord.Chord):\n",
    "                chord_name = '.'.join(str(n) for n in element.normalOrder)\n",
    "                notes.append(chord_name)\n",
    "                durations.append(element.duration.quarterLength)\n",
    "                pitches.extend(p.midi for p in element.pitches)\n",
    "\n",
    "        # Chord features from chordified stream\n",
    "        chordified = midi.chordify()\n",
    "        chord_names = []\n",
    "        major_count = 0\n",
    "        minor_count = 0\n",
    "\n",
    "        for c in chordified.recurse().getElementsByClass('Chord'):\n",
    "            name = c.pitchedCommonName\n",
    "            if name and 'chord' in name:\n",
    "                chord_names.append(name)\n",
    "                if c.quality == 'major':\n",
    "                    major_count += 1\n",
    "                elif c.quality == 'minor':\n",
    "                    minor_count += 1\n",
    "\n",
    "        total_chords = major_count + minor_count\n",
    "\n",
    "        return {\n",
    "            'num_events': len(notes),\n",
    "            'unique_events': len(set(notes)),\n",
    "            'avg_duration': sum(durations) / len(durations) if durations else 0,\n",
    "            'tempo': bpm,\n",
    "            'avg_pitch': sum(pitches) / len(pitches) if pitches else 0,\n",
    "            'pitch_range': max(pitches) - min(pitches) if pitches else 0,\n",
    "            'note_density': len(notes) / midi.highestTime if midi.highestTime > 0 else 0,\n",
    "            'chord_diversity': len(set(chord_names)),\n",
    "            'major_ratio': major_count / total_chords if total_chords > 0 else 0,\n",
    "            'minor_ratio': minor_count / total_chords if total_chords > 0 else 0,\n",
    "            'note_sequence': ' '.join(notes[:100])  # preview of first 100 events\n",
    "        }\n",
    "\n",
    "    except Exception as e:\n",
    "        return {\n",
    "            'num_events': 0,\n",
    "            'unique_events': 0,\n",
    "            'avg_duration': 0,\n",
    "            'tempo': 0,\n",
    "            'avg_pitch': 0,\n",
    "            'pitch_range': 0,\n",
    "            'note_density': 0,\n",
    "            'chord_diversity': 0,\n",
    "            'major_ratio': 0,\n",
    "            'minor_ratio': 0,\n",
    "            'note_sequence': '',\n",
    "            'error': str(e)\n",
    "        }"
   ]
  },
  {
   "cell_type": "code",
   "execution_count": 9,
   "id": "veQn9fspFIuc",
   "metadata": {
    "colab": {
     "base_uri": "https://localhost:8080/",
     "height": 1000
    },
    "id": "veQn9fspFIuc",
    "outputId": "d381b8bf-32cc-4da5-e969-39e98f0c59fb"
   },
   "outputs": [
    {
     "name": "stderr",
     "output_type": "stream",
     "text": [
      "  0%|                                         | 2/1660 [00:03<39:51,  1.44s/it]/Users/johnny/Library/Python/3.9/lib/python/site-packages/music21/midi/translate.py:863: TranslateWarning: Unable to determine instrument from <music21.midi.MidiEvent SEQUENCE_TRACK_NAME, track=4, channel=None, data=b'Copyright \\xa9 1997 by Bernd Kr\\xfcger'>; getting generic Instrument\n",
      "  warnings.warn(\n",
      "  0%|                                       | 3/1660 [00:06<1:08:38,  2.49s/it]/Users/johnny/Library/Python/3.9/lib/python/site-packages/music21/midi/translate.py:863: TranslateWarning: Unable to determine instrument from <music21.midi.MidiEvent SEQUENCE_TRACK_NAME, track=0, channel=None, data=b'\\x8b\\xc8\\x82\\xcc\\x95\\\\\\x91\\xe8'>; getting generic Instrument\n",
      "  warnings.warn(\n",
      "  1%|▏                                      | 9/1660 [00:56<3:19:32,  7.25s/it]/Users/johnny/Library/Python/3.9/lib/python/site-packages/music21/midi/translate.py:863: TranslateWarning: Unable to determine instrument from <music21.midi.MidiEvent SEQUENCE_TRACK_NAME, track=4, channel=None, data=b'Title: Ein Orgel-St\\xfcck F\\xfcr Ein Uhr in Abmaj (K. 608, 1791)'>; getting generic Instrument\n",
      "  warnings.warn(\n",
      "  1%|▍                                     | 18/1660 [03:08<6:29:27, 14.23s/it]/Users/johnny/Library/Python/3.9/lib/python/site-packages/music21/midi/translate.py:863: TranslateWarning: Unable to determine instrument from <music21.midi.MidiEvent SEQUENCE_TRACK_NAME, track=0, channel=None, data=b'                                \\x82v.\\x82`.\\x82lOZART                                                 \\x81u\\x83s\\x83A\\x83m\\x83\\\\\\x83i\\x83^\\x91\\xe612\\x94\\xd4\\x81v             Kv.332, F Dur                   \\x91\\xe6\\x82P\\x8ay\\x8f\\xcd                       Allegro                                                 for piano solo         ----------------------------            Roland GS                by MOCLIN(GBA02512)     '>; getting generic Instrument\n",
      "  warnings.warn(\n",
      "  2%|▌                                     | 25/1660 [04:07<4:03:09,  8.92s/it]/Users/johnny/Library/Python/3.9/lib/python/site-packages/music21/midi/translate.py:863: TranslateWarning: Unable to determine instrument from <music21.midi.MidiEvent SEQUENCE_TRACK_NAME, track=0, channel=None, data=b'                                \\x82v.\\x82`.\\x82lOZART                                                 \\x81u\\x83s\\x83A\\x83m\\x83\\\\\\x83i\\x83^\\x91\\xe612\\x94\\xd4\\x81v             Kv.332, F Dur                   \\x91\\xe6\\x82Q\\x8ay\\x8f\\xcd                       Adagio                                                  for piano solo         ----------------------------            Roland GS                by MOCLIN(GBA02512)'>; getting generic Instrument\n",
      "  warnings.warn(\n",
      "  2%|▋                                     | 29/1660 [04:35<3:32:44,  7.83s/it]/Users/johnny/Library/Python/3.9/lib/python/site-packages/music21/midi/translate.py:863: TranslateWarning: Unable to determine instrument from <music21.midi.MidiEvent SEQUENCE_TRACK_NAME, track=11, channel=None, data=b'\\xa9 June 2000'>; getting generic Instrument\n",
      "  warnings.warn(\n",
      "  9%|███▏                              | 155/1660 [37:27<126:31:56, 302.67s/it]/Users/johnny/Library/Python/3.9/lib/python/site-packages/music21/midi/translate.py:863: TranslateWarning: Unable to determine instrument from <music21.midi.MidiEvent SEQUENCE_TRACK_NAME, track=0, channel=None, data=b'f\\xfcr Sopran, Chor und Orchester'>; getting generic Instrument\n",
      "  warnings.warn(\n",
      "/Users/johnny/Library/Python/3.9/lib/python/site-packages/music21/midi/translate.py:863: TranslateWarning: Unable to determine instrument from <music21.midi.MidiEvent SEQUENCE_TRACK_NAME, track=8, channel=None, data=b'Ba\\xdf'>; getting generic Instrument\n",
      "  warnings.warn(\n",
      " 12%|████▌                                  | 194/1660 [54:48<25:31,  1.04s/it]/Users/johnny/Library/Python/3.9/lib/python/site-packages/music21/midi/translate.py:863: TranslateWarning: Unable to determine instrument from <music21.midi.MidiEvent SEQUENCE_TRACK_NAME, track=4, channel=None, data=b'Copyright \\xa9 2003 by Bernd Krueger'>; getting generic Instrument\n",
      "  warnings.warn(\n",
      " 12%|████▌                                  | 195/1660 [54:51<37:32,  1.54s/it]/Users/johnny/Library/Python/3.9/lib/python/site-packages/music21/midi/translate.py:863: TranslateWarning: Unable to determine instrument from <music21.midi.MidiEvent SEQUENCE_TRACK_NAME, track=4, channel=None, data=b'Copyright \\xa9 2002 by Bernd Krueger'>; getting generic Instrument\n",
      "  warnings.warn(\n",
      " 12%|████▊                                  | 203/1660 [55:00<40:17,  1.66s/it]/Users/johnny/Library/Python/3.9/lib/python/site-packages/music21/midi/translate.py:863: TranslateWarning: Unable to determine instrument from <music21.midi.MidiEvent SEQUENCE_TRACK_NAME, track=4, channel=None, data=b'Copyright \\xa9 1997 by Bernd Krueger'>; getting generic Instrument\n",
      "  warnings.warn(\n",
      " 13%|████▉                                  | 210/1660 [55:07<27:30,  1.14s/it]/Users/johnny/Library/Python/3.9/lib/python/site-packages/music21/midi/translate.py:863: TranslateWarning: Unable to determine instrument from <music21.midi.MidiEvent SEQUENCE_TRACK_NAME, track=4, channel=None, data=b'Copyright \\xa9 2002 by Bernd Kr\\xfcger'>; getting generic Instrument\n",
      "  warnings.warn(\n",
      " 14%|█████▏                               | 231/1660 [58:16<4:28:43, 11.28s/it]/Users/johnny/Library/Python/3.9/lib/python/site-packages/music21/midi/translate.py:863: TranslateWarning: Unable to determine instrument from <music21.midi.MidiEvent SEQUENCE_TRACK_NAME, track=3, channel=None, data=b'\\xa9 1996'>; getting generic Instrument\n",
      "  warnings.warn(\n",
      " 14%|█████▏                               | 233/1660 [58:19<2:26:43,  6.17s/it]/Users/johnny/Library/Python/3.9/lib/python/site-packages/music21/midi/translate.py:863: TranslateWarning: Unable to determine instrument from <music21.midi.MidiEvent SEQUENCE_TRACK_NAME, track=0, channel=None, data=b'F.F.Chopin  Nocturne No.11 in G minor Op.37-1 \\x81@'>; getting generic Instrument\n",
      "  warnings.warn(\n",
      " 15%|█████▉                                 | 251/1660 [59:21<45:22,  1.93s/it]/Users/johnny/Library/Python/3.9/lib/python/site-packages/music21/midi/translate.py:863: TranslateWarning: Unable to determine instrument from <music21.midi.MidiEvent SEQUENCE_TRACK_NAME, track=6, channel=None, data=b'Copyright \\xa9 July 1997 by'>; getting generic Instrument\n",
      "  warnings.warn(\n",
      " 16%|█████▊                               | 259/1660 [59:52<2:03:22,  5.28s/it]/Users/johnny/Library/Python/3.9/lib/python/site-packages/music21/midi/translate.py:863: TranslateWarning: Unable to determine instrument from <music21.midi.MidiEvent SEQUENCE_TRACK_NAME, track=0, channel=None, data=b'Scherzo n\\xb01 in Si minore, Op.20'>; getting generic Instrument\n",
      "  warnings.warn(\n",
      "/Users/johnny/Library/Python/3.9/lib/python/site-packages/music21/midi/translate.py:863: TranslateWarning: Unable to determine instrument from <music21.midi.MidiEvent SEQUENCE_TRACK_NAME, track=3, channel=None, data=b'Copyright \\xa9 2003 by Dario Galimberti'>; getting generic Instrument\n",
      "  warnings.warn(\n",
      " 16%|█████▌                             | 264/1660 [1:00:05<1:10:47,  3.04s/it]/Users/johnny/Library/Python/3.9/lib/python/site-packages/music21/midi/translate.py:863: TranslateWarning: Unable to determine instrument from <music21.midi.MidiEvent SEQUENCE_TRACK_NAME, track=0, channel=None, data=b'Et\\xfcde Nr. 12'>; getting generic Instrument\n",
      "  warnings.warn(\n",
      "/Users/johnny/Library/Python/3.9/lib/python/site-packages/music21/midi/translate.py:863: TranslateWarning: Unable to determine instrument from <music21.midi.MidiEvent SEQUENCE_TRACK_NAME, track=4, channel=None, data=b'Copyright \\xa9 1999 by Bernd Kr\\xfcger'>; getting generic Instrument\n",
      "  warnings.warn(\n",
      " 16%|█████▌                             | 265/1660 [1:00:08<1:04:31,  2.78s/it]/Users/johnny/Library/Python/3.9/lib/python/site-packages/music21/midi/translate.py:863: TranslateWarning: Unable to determine instrument from <music21.midi.MidiEvent SEQUENCE_TRACK_NAME, track=0, channel=None, data=b'Et\\xfcde Opus 10 No. 5'>; getting generic Instrument\n",
      "  warnings.warn(\n",
      " 18%|██████▏                            | 296/1660 [1:03:53<3:09:07,  8.32s/it]/Users/johnny/Library/Python/3.9/lib/python/site-packages/music21/midi/translate.py:863: TranslateWarning: Unable to determine instrument from <music21.midi.MidiEvent SEQUENCE_TRACK_NAME, track=0, channel=None, data=b'Mondscheinsonate; der Gr\\xe4fin Giulietta Guiccardi gewidmet'>; getting generic Instrument\n",
      "  warnings.warn(\n",
      "/Users/johnny/Library/Python/3.9/lib/python/site-packages/music21/midi/translate.py:863: TranslateWarning: Unable to determine instrument from <music21.midi.MidiEvent SEQUENCE_TRACK_NAME, track=4, channel=None, data=b'Copyright \\xa9 1998 by Bernd Krueger'>; getting generic Instrument\n",
      "  warnings.warn(\n",
      " 18%|██████▍                            | 306/1660 [1:07:21<3:10:06,  8.42s/it]/Users/johnny/Library/Python/3.9/lib/python/site-packages/music21/midi/translate.py:863: TranslateWarning: Unable to determine instrument from <music21.midi.MidiEvent SEQUENCE_TRACK_NAME, track=5, channel=None, data=b'Copyright \\xa9 2003 by Bernd Krueger'>; getting generic Instrument\n",
      "  warnings.warn(\n",
      " 19%|██████▍                            | 308/1660 [1:07:41<3:09:11,  8.40s/it]/Users/johnny/Library/Python/3.9/lib/python/site-packages/music21/midi/translate.py:863: TranslateWarning: Unable to determine instrument from <music21.midi.MidiEvent SEQUENCE_TRACK_NAME, track=0, channel=None, data=b'Ouverture N\\xb01 for Fidelio'>; getting generic Instrument\n",
      "  warnings.warn(\n",
      "/Users/johnny/Library/Python/3.9/lib/python/site-packages/music21/midi/translate.py:863: TranslateWarning: Unable to determine instrument from <music21.midi.MidiEvent SEQUENCE_TRACK_NAME, track=17, channel=None, data=b'\\xa9 October 2001'>; getting generic Instrument\n",
      "  warnings.warn(\n",
      "/Users/johnny/Library/Python/3.9/lib/python/site-packages/music21/midi/translate.py:863: TranslateWarning: Unable to determine instrument from <music21.midi.MidiEvent SEQUENCE_TRACK_NAME, track=18, channel=None, data=b'Beethoven -  Ouverture Leonore n\\xb0 1'>; getting generic Instrument\n",
      "  warnings.warn(\n",
      " 19%|██████▌                            | 311/1660 [1:09:18<9:35:41, 25.61s/it]/Users/johnny/Library/Python/3.9/lib/python/site-packages/music21/midi/translate.py:863: TranslateWarning: Unable to determine instrument from <music21.midi.MidiEvent SEQUENCE_TRACK_NAME, track=0, channel=None, data=b'Ouverture N\\xb02 for Fidelio'>; getting generic Instrument\n",
      "  warnings.warn(\n",
      "/Users/johnny/Library/Python/3.9/lib/python/site-packages/music21/midi/translate.py:863: TranslateWarning: Unable to determine instrument from <music21.midi.MidiEvent SEQUENCE_TRACK_NAME, track=23, channel=None, data=b'\\xa9 October 2001'>; getting generic Instrument\n",
      "  warnings.warn(\n",
      "/Users/johnny/Library/Python/3.9/lib/python/site-packages/music21/midi/translate.py:863: TranslateWarning: Unable to determine instrument from <music21.midi.MidiEvent SEQUENCE_TRACK_NAME, track=24, channel=None, data=b'Beethoven -  Ouverture Leonore n\\xb0 2'>; getting generic Instrument\n",
      "  warnings.warn(\n",
      " 19%|██████▋                            | 315/1660 [1:11:05<7:06:55, 19.04s/it]/Users/johnny/Library/Python/3.9/lib/python/site-packages/music21/midi/translate.py:863: TranslateWarning: Unable to determine instrument from <music21.midi.MidiEvent SEQUENCE_TRACK_NAME, track=0, channel=None, data=b'Ouverture N\\xb03 for Fidelio'>; getting generic Instrument\n",
      "  warnings.warn(\n",
      " 19%|██████▊                            | 321/1660 [1:11:35<2:39:54,  7.17s/it]/Users/johnny/Library/Python/3.9/lib/python/site-packages/music21/midi/translate.py:863: TranslateWarning: Unable to determine instrument from <music21.midi.MidiEvent SEQUENCE_TRACK_NAME, track=0, channel=None, data=b\"Symphonie n\\xb0 6 en fa majeur 'Pastorale' op 68\">; getting generic Instrument\n",
      "  warnings.warn(\n",
      "/Users/johnny/Library/Python/3.9/lib/python/site-packages/music21/midi/translate.py:863: TranslateWarning: Unable to determine instrument from <music21.midi.MidiEvent SEQUENCE_TRACK_NAME, track=16, channel=None, data=b'\\xa9 January 2003'>; getting generic Instrument\n",
      "  warnings.warn(\n",
      " 19%|██████▊                            | 322/1660 [1:12:06<5:20:41, 14.38s/it]/Users/johnny/Library/Python/3.9/lib/python/site-packages/music21/midi/translate.py:863: TranslateWarning: Unable to determine instrument from <music21.midi.MidiEvent SEQUENCE_TRACK_NAME, track=0, channel=None, data=b'Concerto pour violon et orchestre en R\\xe9 majeur'>; getting generic Instrument\n",
      "  warnings.warn(\n",
      " 19%|██████▊                            | 323/1660 [1:12:11<4:17:33, 11.56s/it]/Users/johnny/Library/Python/3.9/lib/python/site-packages/music21/midi/translate.py:863: TranslateWarning: Unable to determine instrument from <music21.midi.MidiEvent SEQUENCE_TRACK_NAME, track=0, channel=None, data=b'Symphony n\\xb0 8 in F major'>; getting generic Instrument\n",
      "  warnings.warn(\n",
      "/Users/johnny/Library/Python/3.9/lib/python/site-packages/music21/midi/translate.py:863: TranslateWarning: Unable to determine instrument from <music21.midi.MidiEvent SEQUENCE_TRACK_NAME, track=17, channel=None, data=b'\\xa9 September 2000'>; getting generic Instrument\n",
      "  warnings.warn(\n",
      " 20%|██████▋                           | 324/1660 [1:13:28<11:36:19, 31.27s/it]/Users/johnny/Library/Python/3.9/lib/python/site-packages/music21/midi/translate.py:863: TranslateWarning: Unable to determine instrument from <music21.midi.MidiEvent SEQUENCE_TRACK_NAME, track=15, channel=None, data=b'\\xa9 January 2003'>; getting generic Instrument\n",
      "  warnings.warn(\n",
      " 20%|███████                            | 332/1660 [1:14:56<2:28:48,  6.72s/it]/Users/johnny/Library/Python/3.9/lib/python/site-packages/music21/midi/translate.py:863: TranslateWarning: Unable to determine instrument from <music21.midi.MidiEvent SEQUENCE_TRACK_NAME, track=20, channel=None, data=b'\\xa9 January 2003'>; getting generic Instrument\n",
      "  warnings.warn(\n",
      " 20%|███████▏                           | 339/1660 [1:19:22<3:48:17, 10.37s/it]/Users/johnny/Library/Python/3.9/lib/python/site-packages/music21/midi/translate.py:863: TranslateWarning: Unable to determine instrument from <music21.midi.MidiEvent SEQUENCE_TRACK_NAME, track=16, channel=None, data=b'\\xa9 July 2003'>; getting generic Instrument\n",
      "  warnings.warn(\n",
      " 21%|███████▍                           | 351/1660 [1:24:05<2:07:29,  5.84s/it]/Users/johnny/Library/Python/3.9/lib/python/site-packages/music21/midi/translate.py:863: TranslateWarning: Unable to determine instrument from <music21.midi.MidiEvent SEQUENCE_TRACK_NAME, track=0, channel=None, data=b'[SC55]\\x8c\\xf0\\x8b\\xbf\\x8b\\xc8\\x91\\xe6\\x82X\\x94\\xd4\\x83j\\x92Z\\x92\\xb2\\x91\\xe6\\x93\\xf1\\x8ay\\x8f\\xcd Beethoven       by \\x92\\x8f'>; getting generic Instrument\n",
      "  warnings.warn(\n",
      "/Users/johnny/Library/Python/3.9/lib/python/site-packages/music21/midi/translate.py:863: TranslateWarning: Unable to determine instrument from <music21.midi.MidiEvent SEQUENCE_TRACK_NAME, track=16, channel=None, data=b'Tempo,Exclusiv\\x81i\\x93k\\x98J(;_;)\\x81j'>; getting generic Instrument\n",
      "  warnings.warn(\n",
      " 21%|███████▍                           | 352/1660 [1:24:27<3:53:57, 10.73s/it]/Users/johnny/Library/Python/3.9/lib/python/site-packages/music21/midi/translate.py:863: TranslateWarning: Unable to determine instrument from <music21.midi.MidiEvent SEQUENCE_TRACK_NAME, track=0, channel=None, data=b'Rond\\xf2 in C WoO 48  (1783)'>; getting generic Instrument\n",
      "  warnings.warn(\n",
      " 22%|███████▊                           | 370/1660 [1:26:23<2:05:49,  5.85s/it]/Users/johnny/Library/Python/3.9/lib/python/site-packages/music21/midi/translate.py:863: TranslateWarning: Unable to determine instrument from <music21.midi.MidiEvent SEQUENCE_TRACK_NAME, track=0, channel=None, data=b'Symphony n\\xb0 1 in C major'>; getting generic Instrument\n",
      "  warnings.warn(\n",
      "/Users/johnny/Library/Python/3.9/lib/python/site-packages/music21/midi/translate.py:863: TranslateWarning: Unable to determine instrument from <music21.midi.MidiEvent SEQUENCE_TRACK_NAME, track=17, channel=None, data=b'\\xa9 Juni 2001'>; getting generic Instrument\n",
      "  warnings.warn(\n",
      " 23%|████████                           | 380/1660 [1:28:51<4:43:33, 13.29s/it]/Users/johnny/Library/Python/3.9/lib/python/site-packages/music21/midi/translate.py:863: TranslateWarning: Unable to determine instrument from <music21.midi.MidiEvent SEQUENCE_TRACK_NAME, track=0, channel=None, data=b'Symphony n\\xb0 2 in D major'>; getting generic Instrument\n",
      "  warnings.warn(\n",
      "/Users/johnny/Library/Python/3.9/lib/python/site-packages/music21/midi/translate.py:863: TranslateWarning: Unable to determine instrument from <music21.midi.MidiEvent SEQUENCE_TRACK_NAME, track=17, channel=None, data=b'\\xa9 January 2001'>; getting generic Instrument\n",
      "  warnings.warn(\n",
      " 23%|████████▏                          | 387/1660 [1:32:18<5:02:51, 14.27s/it]/Users/johnny/Library/Python/3.9/lib/python/site-packages/music21/midi/translate.py:863: TranslateWarning: Unable to determine instrument from <music21.midi.MidiEvent SEQUENCE_TRACK_NAME, track=0, channel=None, data=b' Anhang 6 Rond\\xf2 per pianoforte'>; getting generic Instrument\n",
      "  warnings.warn(\n",
      " 23%|████████▏                          | 390/1660 [1:32:36<3:29:03,  9.88s/it]/Users/johnny/Library/Python/3.9/lib/python/site-packages/music21/midi/translate.py:863: TranslateWarning: Unable to determine instrument from <music21.midi.MidiEvent SEQUENCE_TRACK_NAME, track=0, channel=None, data=b'\\x83x\\x81[\\x83g\\x81[\\x83x\\x83\\x93\\x81@\\x8c\\xf0\\x8b\\xbf\\x8b\\xc8\\x91\\xe6\\x82V\\x94\\xd4\\x81@\\x91\\xe6\\x82Q\\x8ay\\x8f\\xcd                            '>; getting generic Instrument\n",
      "  warnings.warn(\n",
      " 24%|████████▏                          | 391/1660 [1:32:37<2:30:44,  7.13s/it]/Users/johnny/Library/Python/3.9/lib/python/site-packages/music21/midi/translate.py:863: TranslateWarning: Unable to determine instrument from <music21.midi.MidiEvent SEQUENCE_TRACK_NAME, track=15, channel=None, data=b'\\xa9 September 2000'>; getting generic Instrument\n",
      "  warnings.warn(\n",
      " 24%|████████▎                          | 395/1660 [1:32:56<1:54:01,  5.41s/it]/Users/johnny/Library/Python/3.9/lib/python/site-packages/music21/midi/translate.py:863: TranslateWarning: Unable to determine instrument from <music21.midi.MidiEvent SEQUENCE_TRACK_NAME, track=0, channel=None, data=b'Second mouvement : Adagio un poco mosso - troisi\\xe8me mouvement : Rondo - Allegro'>; getting generic Instrument\n",
      "  warnings.warn(\n",
      "/Users/johnny/Library/Python/3.9/lib/python/site-packages/music21/midi/translate.py:863: TranslateWarning: Unable to determine instrument from <music21.midi.MidiEvent SEQUENCE_TRACK_NAME, track=19, channel=None, data=b'\\xa9 September 1998'>; getting generic Instrument\n",
      "  warnings.warn(\n",
      " 24%|████████▌                          | 406/1660 [1:37:09<3:24:41,  9.79s/it]/Users/johnny/Library/Python/3.9/lib/python/site-packages/music21/midi/translate.py:863: TranslateWarning: Unable to determine instrument from <music21.midi.MidiEvent SEQUENCE_TRACK_NAME, track=4, channel=None, data=b'Copyright \\xa9 2001 by Bernd Kr\\xfcger'>; getting generic Instrument\n",
      "  warnings.warn(\n",
      " 25%|████████▊                          | 418/1660 [1:39:17<5:55:48, 17.19s/it]/Users/johnny/Library/Python/3.9/lib/python/site-packages/music21/midi/translate.py:863: TranslateWarning: Unable to determine instrument from <music21.midi.MidiEvent SEQUENCE_TRACK_NAME, track=0, channel=None, data=b'\\x83s\\x83A\\x83m\\x83\\\\\\x83i\\x83^ \\x91\\xe6\\x82Q\\x82X\\x94\\xd4 \\x81u\\x83n\\x83\\x93\\x83}\\x81[\\x83N\\x83\\x89\\x83\\x94\\x83B\\x83A\\x81v \\x91\\xe6\\x82Q\\x8ay\\x8f\\xcd'>; getting generic Instrument\n",
      "  warnings.warn(\n",
      " 34%|████████████▌                        | 565/1660 [1:44:06<45:12,  2.48s/it]/Users/johnny/Library/Python/3.9/lib/python/site-packages/music21/midi/translate.py:863: TranslateWarning: Unable to determine instrument from <music21.midi.MidiEvent SEQUENCE_TRACK_NAME, track=1, channel=None, data=b'4th Movement - Bourr\\xe9e'>; getting generic Instrument\n",
      "  warnings.warn(\n",
      "/Users/johnny/Library/Python/3.9/lib/python/site-packages/music21/midi/translate.py:863: TranslateWarning: Unable to determine instrument from <music21.midi.MidiEvent SEQUENCE_TRACK_NAME, track=16, channel=None, data=b'Johann Sebastian Bach - Orchestral Suite No. 3 in D Major, BWV1068 - No. 4 Bourr\\xe9e'>; getting generic Instrument\n",
      "  warnings.warn(\n",
      " 34%|████████████▌                        | 566/1660 [1:44:08<41:36,  2.28s/it]/Users/johnny/Library/Python/3.9/lib/python/site-packages/music21/midi/translate.py:863: TranslateWarning: Unable to determine instrument from <music21.midi.MidiEvent SEQUENCE_TRACK_NAME, track=1, channel=None, data=b'4th Movement - Bourr\\xe9e I and II'>; getting generic Instrument\n",
      "  warnings.warn(\n",
      "/Users/johnny/Library/Python/3.9/lib/python/site-packages/music21/midi/translate.py:863: TranslateWarning: Unable to determine instrument from <music21.midi.MidiEvent SEQUENCE_TRACK_NAME, track=12, channel=None, data=b'Johann Sebastian Bach - Orchestral Suite No. 2 in B minor, BWV1067 - No. 4 Bourr\\xe9e I and II'>; getting generic Instrument\n",
      "  warnings.warn(\n",
      " 39%|█████████████▋                     | 649/1660 [1:46:15<2:23:53,  8.54s/it]/Users/johnny/Library/Python/3.9/lib/python/site-packages/music21/midi/translate.py:863: TranslateWarning: Unable to determine instrument from <music21.midi.MidiEvent SEQUENCE_TRACK_NAME, track=6, channel=None, data=b'Recorder (Fl\\xfbte \\xe0 bec)'>; getting generic Instrument\n",
      "  warnings.warn(\n",
      " 40%|██████████████▋                      | 659/1660 [1:46:52<46:57,  2.82s/it]/Users/johnny/Library/Python/3.9/lib/python/site-packages/music21/midi/translate.py:863: TranslateWarning: Unable to determine instrument from <music21.midi.MidiEvent SEQUENCE_TRACK_NAME, track=0, channel=None, data=b'Preludiul nr.3 \\xeen re minor, BWV 935'>; getting generic Instrument\n",
      "  warnings.warn(\n",
      " 47%|█████████████████▎                   | 775/1660 [1:49:59<24:17,  1.65s/it]/Users/johnny/Library/Python/3.9/lib/python/site-packages/music21/midi/translate.py:863: TranslateWarning: Unable to determine instrument from <music21.midi.MidiEvent SEQUENCE_TRACK_NAME, track=14, channel=None, data=b'Sequenced by Ken Whitcomb \\xa91998'>; getting generic Instrument\n",
      "  warnings.warn(\n",
      " 49%|██████████████████▏                  | 816/1660 [1:50:58<20:33,  1.46s/it]/Users/johnny/Library/Python/3.9/lib/python/site-packages/music21/midi/translate.py:863: TranslateWarning: Unable to determine instrument from <music21.midi.MidiEvent SEQUENCE_TRACK_NAME, track=12, channel=None, data=b'Sequenced by Ken Whitcomb \\xa91997'>; getting generic Instrument\n",
      "  warnings.warn(\n",
      " 49%|██████████████████▏                  | 817/1660 [1:50:59<18:41,  1.33s/it]/Users/johnny/Library/Python/3.9/lib/python/site-packages/music21/midi/translate.py:863: TranslateWarning: Unable to determine instrument from <music21.midi.MidiEvent SEQUENCE_TRACK_NAME, track=14, channel=None, data=b'Sequenced by Ken Whitcomb \\xa91997'>; getting generic Instrument\n",
      "  warnings.warn(\n",
      " 55%|████████████████████▎                | 912/1660 [1:53:44<12:25,  1.00it/s]/Users/johnny/Library/Python/3.9/lib/python/site-packages/music21/midi/translate.py:863: TranslateWarning: Unable to determine instrument from <music21.midi.MidiEvent SEQUENCE_TRACK_NAME, track=11, channel=None, data=b'\"K\\xf6nnen Tr\\xe4nen meiner'>; getting generic Instrument\n",
      "  warnings.warn(\n",
      "/Users/johnny/Library/Python/3.9/lib/python/site-packages/music21/midi/translate.py:863: TranslateWarning: Unable to determine instrument from <music21.midi.MidiEvent SEQUENCE_TRACK_NAME, track=15, channel=None, data=b'Sequenced by Ken Whitcomb \\xa91998'>; getting generic Instrument\n",
      "  warnings.warn(\n",
      " 55%|████████████████████▎                | 913/1660 [1:53:50<26:57,  2.17s/it]/Users/johnny/Library/Python/3.9/lib/python/site-packages/music21/midi/translate.py:863: TranslateWarning: Unable to determine instrument from <music21.midi.MidiEvent SEQUENCE_TRACK_NAME, track=16, channel=None, data=b'Sequenced by Ken Whitcomb \\xa91997'>; getting generic Instrument\n",
      "  warnings.warn(\n",
      " 56%|████████████████████▊                | 932/1660 [1:54:42<14:44,  1.22s/it]/Users/johnny/Library/Python/3.9/lib/python/site-packages/music21/midi/translate.py:863: TranslateWarning: Unable to determine instrument from <music21.midi.MidiEvent SEQUENCE_TRACK_NAME, track=0, channel=None, data=b'J.S.Bach 2\\x82\\xc2\\x82\\xcc\\x83\\x94\\x83@\\x83C\\x83I\\x83\\x8a\\x83\\x93\\x82\\xcc\\x82\\xbd\\x82\\xdf\\x82\\xcc\\x8b\\xa6\\x91t\\x8b\\xc8 \\x83j\\x92Z\\x92\\xb2 BWV1043 1.Vivace'>; getting generic Instrument\n",
      "  warnings.warn(\n",
      " 57%|████████████████████▉                | 942/1660 [1:55:02<16:15,  1.36s/it]/Users/johnny/Library/Python/3.9/lib/python/site-packages/music21/midi/translate.py:863: TranslateWarning: Unable to determine instrument from <music21.midi.MidiEvent SEQUENCE_TRACK_NAME, track=19, channel=None, data=b'Tr\\xe4nen nieder\" from'>; getting generic Instrument\n",
      "  warnings.warn(\n",
      "/Users/johnny/Library/Python/3.9/lib/python/site-packages/music21/midi/translate.py:863: TranslateWarning: Unable to determine instrument from <music21.midi.MidiEvent SEQUENCE_TRACK_NAME, track=22, channel=None, data=b'Sequenced by Ken Whitcomb \\xa91998'>; getting generic Instrument\n",
      "  warnings.warn(\n",
      " 57%|█████████████████████▏               | 951/1660 [1:55:11<06:02,  1.95it/s]/Users/johnny/Library/Python/3.9/lib/python/site-packages/music21/midi/translate.py:863: TranslateWarning: Unable to determine instrument from <music21.midi.MidiEvent SEQUENCE_TRACK_NAME, track=5, channel=None, data=b' DEO SOLI GLORIA PER S\\xc6CULA S\\xc6CULORUM!!!'>; getting generic Instrument\n",
      "  warnings.warn(\n",
      " 59%|█████████████████████▊               | 979/1660 [1:58:04<23:31,  2.07s/it]/Users/johnny/Library/Python/3.9/lib/python/site-packages/music21/midi/translate.py:863: TranslateWarning: Unable to determine instrument from <music21.midi.MidiEvent SEQUENCE_TRACK_NAME, track=1, channel=None, data=b'5th Movement - R\\xe9jouissance'>; getting generic Instrument\n",
      "  warnings.warn(\n",
      "/Users/johnny/Library/Python/3.9/lib/python/site-packages/music21/midi/translate.py:863: TranslateWarning: Unable to determine instrument from <music21.midi.MidiEvent SEQUENCE_TRACK_NAME, track=18, channel=None, data=b'Johann Sebastian Bach - Orchestral Suite No. 4 in D Major, BWV1069 - No. 5 R\\xe9jouissance'>; getting generic Instrument\n",
      "  warnings.warn(\n",
      " 68%|████████████████████████▎           | 1122/1660 [2:03:02<57:59,  6.47s/it]/Users/johnny/Library/Python/3.9/lib/python/site-packages/music21/midi/translate.py:863: TranslateWarning: Unable to determine instrument from <music21.midi.MidiEvent SEQUENCE_TRACK_NAME, track=1, channel=None, data=b'2nd Movement - Bourr\\xe9e I and II'>; getting generic Instrument\n",
      "  warnings.warn(\n",
      "/Users/johnny/Library/Python/3.9/lib/python/site-packages/music21/midi/translate.py:863: TranslateWarning: Unable to determine instrument from <music21.midi.MidiEvent SEQUENCE_TRACK_NAME, track=18, channel=None, data=b'Johann Sebastian Bach - Orchestral Suite No. 4 in D Major, BWV1069 - No. 2 Bourr\\xe9e I and II'>; getting generic Instrument\n",
      "  warnings.warn(\n",
      " 70%|█████████████████████████▏          | 1163/1660 [2:04:17<26:34,  3.21s/it]/Users/johnny/Library/Python/3.9/lib/python/site-packages/music21/midi/translate.py:863: TranslateWarning: Unable to determine instrument from <music21.midi.MidiEvent SEQUENCE_TRACK_NAME, track=0, channel=None, data=b'Fl\\xf6te-Konzert Nr. 2'>; getting generic Instrument\n",
      "  warnings.warn(\n",
      " 72%|█████████████████████████▊          | 1191/1660 [2:06:54<10:29,  1.34s/it]/Users/johnny/Library/Python/3.9/lib/python/site-packages/music21/midi/translate.py:863: TranslateWarning: Unable to determine instrument from <music21.midi.MidiEvent SEQUENCE_TRACK_NAME, track=5, channel=None, data=b'Copyright \\xa9 1997 by Bernd Krueger'>; getting generic Instrument\n",
      "  warnings.warn(\n",
      " 72%|█████████████████████████▉          | 1196/1660 [2:07:05<14:21,  1.86s/it]/Users/johnny/Library/Python/3.9/lib/python/site-packages/music21/midi/translate.py:863: TranslateWarning: Unable to determine instrument from <music21.midi.MidiEvent SEQUENCE_TRACK_NAME, track=5, channel=None, data=b'Copyright \\xa9 2002 by Bernd Krueger'>; getting generic Instrument\n",
      "  warnings.warn(\n",
      " 73%|██████████████████████████▏         | 1205/1660 [2:07:56<53:57,  7.12s/it]/Users/johnny/Library/Python/3.9/lib/python/site-packages/music21/midi/translate.py:863: TranslateWarning: Unable to determine instrument from <music21.midi.MidiEvent SEQUENCE_TRACK_NAME, track=0, channel=None, data=b'Second mouvement : Larghetto - troisi\\xe8me mouvement : Rondo - Allegro'>; getting generic Instrument\n",
      "  warnings.warn(\n",
      " 80%|████████████████████████████▉       | 1335/1660 [2:12:10<14:44,  2.72s/it]/Users/johnny/Library/Python/3.9/lib/python/site-packages/music21/midi/translate.py:863: TranslateWarning: Unable to determine instrument from <music21.midi.MidiEvent SEQUENCE_TRACK_NAME, track=0, channel=None, data=b'                                \\x82v.\\x82`.\\x82lOZART                                                 \\x81u\\x83s\\x83A\\x83m\\x83\\\\\\x83i\\x83^\\x91\\xe612\\x94\\xd4\\x81v             Kv.332, F Dur                   \\x91\\xe6\\x82R\\x8ay\\x8f\\xcd                    Allegro assai                                              for piano solo         ----------------------------            Roland GS                by MOCLIN(GBA02512)     '>; getting generic Instrument\n",
      "  warnings.warn(\n",
      " 80%|████████████████████████████▉       | 1336/1660 [2:12:20<26:01,  4.82s/it]/Users/johnny/Library/Python/3.9/lib/python/site-packages/music21/midi/translate.py:863: TranslateWarning: Unable to determine instrument from <music21.midi.MidiEvent SEQUENCE_TRACK_NAME, track=4, channel=None, data=b'Title: Ein St\\xfcck F\\xfcr Orgelwerk In Einer Uhr (K. 594, 1790)'>; getting generic Instrument\n",
      "  warnings.warn(\n",
      " 81%|████████████████████████████▉       | 1337/1660 [2:12:24<25:22,  4.71s/it]/Users/johnny/Library/Python/3.9/lib/python/site-packages/music21/midi/translate.py:863: TranslateWarning: Unable to determine instrument from <music21.midi.MidiEvent SEQUENCE_TRACK_NAME, track=0, channel=None, data=b'\\x83s\\x83A\\x83m\\x8b\\xa6\\x91t\\x8b\\xc8\\x91\\xe6\\x82Q\\x82U\\x94\\xd4\\x81u\\x91\\xd5\\x8a\\xa5\\x8e\\xae\\x81v\\x91\\xe6\\x82P\\x8ay\\x8f\\xcd'>; getting generic Instrument\n",
      "  warnings.warn(\n",
      " 81%|█████████████████████████████       | 1340/1660 [2:12:54<33:53,  6.35s/it]/Users/johnny/Library/Python/3.9/lib/python/site-packages/music21/midi/translate.py:863: TranslateWarning: Unable to determine instrument from <music21.midi.MidiEvent SEQUENCE_TRACK_NAME, track=0, channel=None, data=b'\\x83\\x82\\x81[\\x83c\\x83A\\x83\\x8b\\x83g\\x83s\\x83A\\x83m\\x8b\\xa6\\x91t\\x8b\\xc8\\x91\\xe6\\x82Q\\x82U\\x94\\xd4\\x91\\xe6\\x82Q\\x8ay\\x8f\\xcd'>; getting generic Instrument\n",
      "  warnings.warn(\n",
      " 81%|█████████████████████████████▏      | 1345/1660 [2:13:35<34:49,  6.63s/it]/Users/johnny/Library/Python/3.9/lib/python/site-packages/music21/midi/translate.py:863: TranslateWarning: Unable to determine instrument from <music21.midi.MidiEvent SEQUENCE_TRACK_NAME, track=0, channel=None, data=b'\\x83\\x82\\x81[\\x83c\\x83A\\x83\\x8b\\x83g\\x83s\\x83A\\x83m\\x8b\\xa6\\x91t\\x8b\\xc8\\x91\\xe6\\x82Q\\x82U\\x94\\xd4\\x81u\\x91\\xd5\\x8a\\xa5\\x8e\\xae\\x81v\\x91\\xe6\\x82R\\x8ay\\x8f\\xcd'>; getting generic Instrument\n",
      "  warnings.warn(\n",
      " 84%|██████████████████████████████▎     | 1395/1660 [2:18:52<31:02,  7.03s/it]/Users/johnny/Library/Python/3.9/lib/python/site-packages/music21/midi/translate.py:863: TranslateWarning: Unable to determine instrument from <music21.midi.MidiEvent SEQUENCE_TRACK_NAME, track=0, channel=None, data=b'Et\\xfcde Opus 25, No. 11'>; getting generic Instrument\n",
      "  warnings.warn(\n",
      "/Users/johnny/Library/Python/3.9/lib/python/site-packages/music21/midi/translate.py:863: TranslateWarning: Unable to determine instrument from <music21.midi.MidiEvent SEQUENCE_TRACK_NAME, track=0, channel=None, data=b'Sturmet\\xfcde'>; getting generic Instrument\n",
      "  warnings.warn(\n",
      " 85%|██████████████████████████████▍     | 1406/1660 [2:19:09<06:45,  1.60s/it]/Users/johnny/Library/Python/3.9/lib/python/site-packages/music21/midi/translate.py:863: TranslateWarning: Unable to determine instrument from <music21.midi.MidiEvent SEQUENCE_TRACK_NAME, track=0, channel=None, data=b'Schwarze-Tasten-Et\\xfcde'>; getting generic Instrument\n",
      "  warnings.warn(\n",
      " 85%|██████████████████████████████▋     | 1415/1660 [2:20:37<38:24,  9.40s/it]/Users/johnny/Library/Python/3.9/lib/python/site-packages/music21/midi/translate.py:863: TranslateWarning: Unable to determine instrument from <music21.midi.MidiEvent SEQUENCE_TRACK_NAME, track=5, channel=None, data=b'Copyright \\xa9 1998 by Bernd Krueger'>; getting generic Instrument\n",
      "  warnings.warn(\n",
      " 86%|███████████████████████████████     | 1430/1660 [2:22:15<15:07,  3.95s/it]/Users/johnny/Library/Python/3.9/lib/python/site-packages/music21/midi/translate.py:863: TranslateWarning: Unable to determine instrument from <music21.midi.MidiEvent SEQUENCE_TRACK_NAME, track=1, channel=None, data=b'1 main droite m\\xe9lodie'>; getting generic Instrument\n",
      "  warnings.warn(\n",
      " 90%|████████████████████████████████▏   | 1486/1660 [2:24:57<01:23,  2.09it/s]/Users/johnny/Library/Python/3.9/lib/python/site-packages/music21/midi/translate.py:863: TranslateWarning: Unable to determine instrument from <music21.midi.MidiEvent SEQUENCE_TRACK_NAME, track=1, channel=None, data=b'6th Movement - Bourr\\xe9e I and II'>; getting generic Instrument\n",
      "  warnings.warn(\n",
      "/Users/johnny/Library/Python/3.9/lib/python/site-packages/music21/midi/translate.py:863: TranslateWarning: Unable to determine instrument from <music21.midi.MidiEvent SEQUENCE_TRACK_NAME, track=13, channel=None, data=b'Johann Sebastian Bach - Orchestral Suite No. 1 in C Major, BWV1066 - No. 6 Bourr\\xe9e I and II'>; getting generic Instrument\n",
      "  warnings.warn(\n",
      " 90%|████████████████████████████████▌   | 1501/1660 [2:25:49<22:36,  8.53s/it]/Users/johnny/Library/Python/3.9/lib/python/site-packages/music21/midi/translate.py:863: TranslateWarning: Unable to determine instrument from <music21.midi.MidiEvent SEQUENCE_TRACK_NAME, track=0, channel=None, data=b'Preludiul nr.6 \\xeen mi minor, BWV 938'>; getting generic Instrument\n",
      "  warnings.warn(\n",
      " 93%|█████████████████████████████████▍  | 1539/1660 [2:26:31<00:58,  2.05it/s]/Users/johnny/Library/Python/3.9/lib/python/site-packages/music21/midi/translate.py:863: TranslateWarning: Unable to determine instrument from <music21.midi.MidiEvent SEQUENCE_TRACK_NAME, track=9, channel=None, data=b'Sequenced by Ken Whitcomb \\xa91998'>; getting generic Instrument\n",
      "  warnings.warn(\n",
      " 96%|██████████████████████████████████▌ | 1595/1660 [2:27:20<01:03,  1.02it/s]/Users/johnny/Library/Python/3.9/lib/python/site-packages/music21/midi/translate.py:863: TranslateWarning: Unable to determine instrument from <music21.midi.MidiEvent SEQUENCE_TRACK_NAME, track=0, channel=None, data=b'J.S.Bach 2\\x82\\xc2\\x82\\xcc\\x83\\x94\\x83@\\x83C\\x83I\\x83\\x8a\\x83\\x93\\x82\\xcc\\x82\\xbd\\x82\\xdf\\x82\\xcc\\x8b\\xa6\\x91t\\x8b\\xc8 \\x83j\\x92Z\\x92\\xb2 BWV1043 3.Allegro'>; getting generic Instrument\n",
      "  warnings.warn(\n",
      "100%|████████████████████████████████████| 1660/1660 [2:28:54<00:00,  5.38s/it]\n"
     ]
    },
    {
     "data": {
      "text/html": [
       "<div>\n",
       "<style scoped>\n",
       "    .dataframe tbody tr th:only-of-type {\n",
       "        vertical-align: middle;\n",
       "    }\n",
       "\n",
       "    .dataframe tbody tr th {\n",
       "        vertical-align: top;\n",
       "    }\n",
       "\n",
       "    .dataframe thead th {\n",
       "        text-align: right;\n",
       "    }\n",
       "</style>\n",
       "<table border=\"1\" class=\"dataframe\">\n",
       "  <thead>\n",
       "    <tr style=\"text-align: right;\">\n",
       "      <th></th>\n",
       "      <th>num_events</th>\n",
       "      <th>unique_events</th>\n",
       "      <th>avg_duration</th>\n",
       "      <th>tempo</th>\n",
       "      <th>avg_pitch</th>\n",
       "      <th>pitch_range</th>\n",
       "      <th>note_density</th>\n",
       "      <th>chord_diversity</th>\n",
       "      <th>major_ratio</th>\n",
       "      <th>minor_ratio</th>\n",
       "      <th>note_sequence</th>\n",
       "      <th>split</th>\n",
       "      <th>composer</th>\n",
       "      <th>filename</th>\n",
       "      <th>filepath</th>\n",
       "      <th>error</th>\n",
       "    </tr>\n",
       "  </thead>\n",
       "  <tbody>\n",
       "    <tr>\n",
       "      <th>0</th>\n",
       "      <td>3218</td>\n",
       "      <td>53</td>\n",
       "      <td>0.580640</td>\n",
       "      <td>122.0</td>\n",
       "      <td>64.404434</td>\n",
       "      <td>58</td>\n",
       "      <td>11.787546</td>\n",
       "      <td>22</td>\n",
       "      <td>0.612245</td>\n",
       "      <td>0.387755</td>\n",
       "      <td>D5 G5 A5 B5 C6 A5 B5 G5 A5 G5 F#5 E5 D5 E5 F#5...</td>\n",
       "      <td>train</td>\n",
       "      <td>Mozart</td>\n",
       "      <td>Mozart_0103.mid</td>\n",
       "      <td>train/Mozart/Mozart_0103.mid</td>\n",
       "      <td>NaN</td>\n",
       "    </tr>\n",
       "    <tr>\n",
       "      <th>1</th>\n",
       "      <td>862</td>\n",
       "      <td>85</td>\n",
       "      <td>0.736176</td>\n",
       "      <td>45.0</td>\n",
       "      <td>63.599498</td>\n",
       "      <td>55</td>\n",
       "      <td>6.246377</td>\n",
       "      <td>46</td>\n",
       "      <td>0.784615</td>\n",
       "      <td>0.215385</td>\n",
       "      <td>0.4 0.4 0.4 0.4 0.4 2.4.5 7.11.2 2.7 9.0 11.2....</td>\n",
       "      <td>train</td>\n",
       "      <td>Mozart</td>\n",
       "      <td>Mozart_0063.mid</td>\n",
       "      <td>train/Mozart/Mozart_0063.mid</td>\n",
       "      <td>NaN</td>\n",
       "    </tr>\n",
       "    <tr>\n",
       "      <th>2</th>\n",
       "      <td>2688</td>\n",
       "      <td>120</td>\n",
       "      <td>0.591363</td>\n",
       "      <td>165.0</td>\n",
       "      <td>67.948638</td>\n",
       "      <td>60</td>\n",
       "      <td>2.937705</td>\n",
       "      <td>61</td>\n",
       "      <td>0.341935</td>\n",
       "      <td>0.658065</td>\n",
       "      <td>F5 D5 B-4 B-4 E-5 G5 A4 C5 B-4 D5 C5 E-5 D5 F5...</td>\n",
       "      <td>train</td>\n",
       "      <td>Mozart</td>\n",
       "      <td>Mozart_0077.mid</td>\n",
       "      <td>train/Mozart/Mozart_0077.mid</td>\n",
       "      <td>NaN</td>\n",
       "    </tr>\n",
       "    <tr>\n",
       "      <th>3</th>\n",
       "      <td>434</td>\n",
       "      <td>16</td>\n",
       "      <td>0.316436</td>\n",
       "      <td>120.0</td>\n",
       "      <td>71.382488</td>\n",
       "      <td>21</td>\n",
       "      <td>2.646341</td>\n",
       "      <td>0</td>\n",
       "      <td>0.000000</td>\n",
       "      <td>0.000000</td>\n",
       "      <td>C4 D4 C4 D4 C4 F4 C4 G4 C4 A4 C4 B4 C4 C5 C4 D...</td>\n",
       "      <td>train</td>\n",
       "      <td>Mozart</td>\n",
       "      <td>Mozart_0088.mid</td>\n",
       "      <td>train/Mozart/Mozart_0088.mid</td>\n",
       "      <td>NaN</td>\n",
       "    </tr>\n",
       "    <tr>\n",
       "      <th>4</th>\n",
       "      <td>15528</td>\n",
       "      <td>130</td>\n",
       "      <td>0.483519</td>\n",
       "      <td>135.0</td>\n",
       "      <td>64.320504</td>\n",
       "      <td>65</td>\n",
       "      <td>12.980564</td>\n",
       "      <td>161</td>\n",
       "      <td>0.641144</td>\n",
       "      <td>0.358856</td>\n",
       "      <td>C6 C6 B5 D6 D6 C6 A5 A5 A5 A5 5.7 2.4 C5 D5 E5...</td>\n",
       "      <td>train</td>\n",
       "      <td>Mozart</td>\n",
       "      <td>Mozart_0248.mid</td>\n",
       "      <td>train/Mozart/Mozart_0248.mid</td>\n",
       "      <td>NaN</td>\n",
       "    </tr>\n",
       "  </tbody>\n",
       "</table>\n",
       "</div>"
      ],
      "text/plain": [
       "   num_events  unique_events  avg_duration  tempo  avg_pitch  pitch_range  \\\n",
       "0        3218             53      0.580640  122.0  64.404434           58   \n",
       "1         862             85      0.736176   45.0  63.599498           55   \n",
       "2        2688            120      0.591363  165.0  67.948638           60   \n",
       "3         434             16      0.316436  120.0  71.382488           21   \n",
       "4       15528            130      0.483519  135.0  64.320504           65   \n",
       "\n",
       "  note_density  chord_diversity  major_ratio  minor_ratio  \\\n",
       "0    11.787546               22     0.612245     0.387755   \n",
       "1     6.246377               46     0.784615     0.215385   \n",
       "2     2.937705               61     0.341935     0.658065   \n",
       "3     2.646341                0     0.000000     0.000000   \n",
       "4    12.980564              161     0.641144     0.358856   \n",
       "\n",
       "                                       note_sequence  split composer  \\\n",
       "0  D5 G5 A5 B5 C6 A5 B5 G5 A5 G5 F#5 E5 D5 E5 F#5...  train   Mozart   \n",
       "1  0.4 0.4 0.4 0.4 0.4 2.4.5 7.11.2 2.7 9.0 11.2....  train   Mozart   \n",
       "2  F5 D5 B-4 B-4 E-5 G5 A4 C5 B-4 D5 C5 E-5 D5 F5...  train   Mozart   \n",
       "3  C4 D4 C4 D4 C4 F4 C4 G4 C4 A4 C4 B4 C4 C5 C4 D...  train   Mozart   \n",
       "4  C6 C6 B5 D6 D6 C6 A5 A5 A5 A5 5.7 2.4 C5 D5 E5...  train   Mozart   \n",
       "\n",
       "          filename                      filepath error  \n",
       "0  Mozart_0103.mid  train/Mozart/Mozart_0103.mid   NaN  \n",
       "1  Mozart_0063.mid  train/Mozart/Mozart_0063.mid   NaN  \n",
       "2  Mozart_0077.mid  train/Mozart/Mozart_0077.mid   NaN  \n",
       "3  Mozart_0088.mid  train/Mozart/Mozart_0088.mid   NaN  \n",
       "4  Mozart_0248.mid  train/Mozart/Mozart_0248.mid   NaN  "
      ]
     },
     "execution_count": 9,
     "metadata": {},
     "output_type": "execute_result"
    }
   ],
   "source": [
    "# Load your previously generated CSV\n",
    "df = pd.read_csv(csv_file)\n",
    "\n",
    "# Collect features\n",
    "features = []\n",
    "for _, row in tqdm(df.iterrows(), total=len(df)):\n",
    "    full_path = os.path.join(dataset_path, row['filepath'])\n",
    "    feature = extract_features_from_midi(full_path)\n",
    "    feature.update({\n",
    "        'split': row['split'],\n",
    "        'composer': row['composer'],\n",
    "        'filename': row['filename'],\n",
    "        'filepath': row['filepath']\n",
    "    })\n",
    "    features.append(feature)\n",
    "\n",
    "# Save to a new DataFrame\n",
    "features_df = pd.DataFrame(features)\n",
    "\n",
    "# Write it to the csv file\n",
    "features_df.to_csv(csv_file, index=False)\n",
    "\n",
    "# Print the extracted features\n",
    "features_df.head()"
   ]
  },
  {
   "cell_type": "markdown",
   "id": "3f2f6f57-710d-43d7-826e-13cbc147930a",
   "metadata": {
    "id": "3f2f6f57-710d-43d7-826e-13cbc147930a"
   },
   "source": [
    "## Model Building"
   ]
  },
  {
   "cell_type": "markdown",
   "id": "d02852b8-8fdb-44f9-a30e-fa4d7d89c442",
   "metadata": {
    "id": "d02852b8-8fdb-44f9-a30e-fa4d7d89c442"
   },
   "source": [
    "## Model Training"
   ]
  },
  {
   "cell_type": "markdown",
   "id": "d31aed45-6d6c-4992-9dae-a2c403f084f3",
   "metadata": {
    "id": "d31aed45-6d6c-4992-9dae-a2c403f084f3"
   },
   "source": [
    "## Model Evaluation"
   ]
  },
  {
   "cell_type": "markdown",
   "id": "62903365-5543-4be5-b993-08b1fa0238e8",
   "metadata": {
    "id": "62903365-5543-4be5-b993-08b1fa0238e8"
   },
   "source": [
    "## Model Optimization"
   ]
  }
 ],
 "metadata": {
  "colab": {
   "provenance": [],
   "toc_visible": true
  },
  "kernelspec": {
   "display_name": "Python 3 (ipykernel)",
   "language": "python",
   "name": "python3"
  },
  "language_info": {
   "codemirror_mode": {
    "name": "ipython",
    "version": 3
   },
   "file_extension": ".py",
   "mimetype": "text/x-python",
   "name": "python",
   "nbconvert_exporter": "python",
   "pygments_lexer": "ipython3",
   "version": "3.9.6"
  }
 },
 "nbformat": 4,
 "nbformat_minor": 5
}
