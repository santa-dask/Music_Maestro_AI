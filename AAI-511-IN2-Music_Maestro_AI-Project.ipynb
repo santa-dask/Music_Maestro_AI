{
 "cells": [
  {
   "cell_type": "markdown",
   "id": "e0a95652-561c-4ac3-a6ca-bbb88048a9e5",
   "metadata": {},
   "source": [
    "# Deep learning techniques to identify the composer of a music piece\n",
    "\n",
    "**Objective**  \n",
    "The primary objective of this project is to develop a deep learning model that can predict the composer of a given musical score accurately. The project aims to accomplish this objective by using two deep learning techniques: Long Short-Term Memory (LSTM) and Convolutional Neural Network (CNN).\n",
    "\n",
    "**Dataset**  \n",
    "The project will use a dataset consisting of musical scores from various composers. The dataset contain MIDI files and sheet music of compositions from well-known classical composers like Bach, Beethoven, Chopin, Mozart, Schubert, etc. The dataset should be labeled with the name of the composer for each score."
   ]
  },
  {
   "cell_type": "markdown",
   "id": "2f8b97b7-e792-46a7-bca4-7cf4beb01dd7",
   "metadata": {},
   "source": [
    "## Data Collection"
   ]
  },
  {
   "cell_type": "markdown",
   "id": "23f02e2e-3a2b-41c1-870f-e09789c7c2f3",
   "metadata": {},
   "source": [
    "## Install required libraries"
   ]
  },
  {
   "cell_type": "code",
   "execution_count": null,
   "id": "ee7f88e2-941a-4023-882d-72d9441f81ea",
   "metadata": {},
   "outputs": [],
   "source": [
    "#Import all dependent libraries\n",
    "import pandas as pd\n",
    "from google.colab import drive\n",
    "import matplotlib.pyplot as plt\n",
    "import seaborn as sns\n",
    "import numpy as np\n",
    "import warnings\n",
    "import math\n",
    "import keras.optimizers\n",
    "import tensorflow as tf\n",
    "\n",
    "#Machine Learning Libraries\n",
    "from sklearn.linear_model import LinearRegression\n",
    "from sklearn.metrics import mean_squared_error as mse\n",
    "from sklearn.model_selection import train_test_split\n",
    "from sklearn import preprocessing\n",
    "from sklearn.metrics import confusion_matrix, recall_score, precision_score\n",
    "from sklearn.model_selection import GridSearchCV, TimeSeriesSplit\n",
    "from sklearn.model_selection import TimeSeriesSplit\n",
    "\n",
    "#Deep Learning Libraries\n",
    "from keras.models import Sequential,load_model\n",
    "from keras.layers import Dense, Dropout, LSTM, Activation\n",
    "from sklearn.preprocessing import MinMaxScaler\n",
    "from keras.utils import pad_sequences # not used , should we remove it?\n",
    "from keras.callbacks import EarlyStopping, ModelCheckpoint\n",
    "from tensorflow.keras.optimizers import Adam\n",
    "\n",
    "#Suppress warnings for cleaner output\n",
    "warnings.simplefilter(action='ignore', category=FutureWarning)\n",
    "warnings.simplefilter(action='ignore', category=DeprecationWarning)"
   ]
  },
  {
   "cell_type": "code",
   "execution_count": null,
   "id": "fe105c7e-628a-4737-94f1-6b0edabfece6",
   "metadata": {},
   "outputs": [],
   "source": [
    "# Mount google drive to load the input dataset.\n",
    "drive.mount('/content/drive' , force_remount=True)"
   ]
  },
  {
   "cell_type": "markdown",
   "id": "82067802-38c9-4321-840b-258d7ed2e0ba",
   "metadata": {},
   "source": [
    "## Data Pre-processing"
   ]
  },
  {
   "cell_type": "markdown",
   "id": "4633d989-b9ed-444d-96e7-e249825f30b5",
   "metadata": {},
   "source": [
    "## Feature Extraction"
   ]
  },
  {
   "cell_type": "markdown",
   "id": "3f2f6f57-710d-43d7-826e-13cbc147930a",
   "metadata": {},
   "source": [
    "## Model Building"
   ]
  },
  {
   "cell_type": "markdown",
   "id": "d02852b8-8fdb-44f9-a30e-fa4d7d89c442",
   "metadata": {},
   "source": [
    "## Model Training"
   ]
  },
  {
   "cell_type": "markdown",
   "id": "d31aed45-6d6c-4992-9dae-a2c403f084f3",
   "metadata": {},
   "source": [
    "## Model Evaluation"
   ]
  },
  {
   "cell_type": "markdown",
   "id": "62903365-5543-4be5-b993-08b1fa0238e8",
   "metadata": {},
   "source": [
    "## Model Optimization"
   ]
  }
 ],
 "metadata": {
  "kernelspec": {
   "display_name": "Python 3 (ipykernel)",
   "language": "python",
   "name": "python3"
  },
  "language_info": {
   "codemirror_mode": {
    "name": "ipython",
    "version": 3
   },
   "file_extension": ".py",
   "mimetype": "text/x-python",
   "name": "python",
   "nbconvert_exporter": "python",
   "pygments_lexer": "ipython3",
   "version": "3.9.6"
  }
 },
 "nbformat": 4,
 "nbformat_minor": 5
}
